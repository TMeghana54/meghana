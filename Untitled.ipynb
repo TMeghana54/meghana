{
  "nbformat": 4,
  "nbformat_minor": 0,
  "metadata": {
    "colab": {
      "provenance": [],
      "authorship_tag": "ABX9TyMfPjcGEqNqUQaRBSVgh0FR",
      "include_colab_link": true
    },
    "kernelspec": {
      "name": "python3",
      "display_name": "Python 3"
    },
    "language_info": {
      "name": "python"
    }
  },
  "cells": [
    {
      "cell_type": "markdown",
      "metadata": {
        "id": "view-in-github",
        "colab_type": "text"
      },
      "source": [
        "<a href=\"https://colab.research.google.com/github/TMeghana54/meghana/blob/main/Untitled.ipynb\" target=\"_parent\"><img src=\"https://colab.research.google.com/assets/colab-badge.svg\" alt=\"Open In Colab\"/></a>"
      ]
    },
    {
      "cell_type": "code",
      "execution_count": 9,
      "metadata": {
        "colab": {
          "base_uri": "https://localhost:8080/"
        },
        "id": "1MN9X5P-M6kn",
        "outputId": "ccbda816-d773-4460-e912-0c700698a75a"
      },
      "outputs": [
        {
          "output_type": "stream",
          "name": "stdout",
          "text": [
            "2\n",
            "2\n",
            "Enter the elements in matrix1:\n",
            "1\n",
            "2\n",
            "3\n",
            "4\n",
            "Enter the elements in matrix2:\n",
            "5\n",
            "6\n",
            "7\n",
            "8\n",
            "resulting matrix\n",
            "[6, 8]\n",
            "[10, 12]\n"
          ]
        }
      ],
      "source": [
        "rows=int(input())\n",
        "cols=int(input())\n",
        "mat1=[]\n",
        "mat2=[]\n",
        "print(\"Enter the elements in matrix1:\")\n",
        "for i in range(rows):\n",
        "    row =[]\n",
        "    for j in range(cols):\n",
        "      row.append(int(input()))\n",
        "    mat1.append(row)\n",
        "print(\"Enter the elements in matrix2:\")\n",
        "for i in range(rows):\n",
        "    row =[]\n",
        "    for j in range(cols):\n",
        "        row.append(int(input()))\n",
        "    mat2.append(row)\n",
        "res=[]\n",
        "for i in range(rows):\n",
        "    row=[]\n",
        "    for j in range(cols):\n",
        "        row.append(mat1[i][j]+mat2[i][j])\n",
        "    res.append(row)\n",
        "print(\"resulting matrix\")\n",
        "for row in res:\n",
        "    print(row)"
      ]
    },
    {
      "cell_type": "code",
      "source": [
        "rows=int(input())\n",
        "cols=int(input())\n",
        "mat1=[]\n",
        "mat2=[]\n",
        "print(\"Enter the elements in matrix1:\")\n",
        "for i in range(rows):\n",
        "    row =[]\n",
        "    for j in range(cols):\n",
        "        row.append(int(input()))\n",
        "    mat1.append(row)\n",
        "print(\"Enter the elements in matrix2:\")\n",
        "for i in range(rows):\n",
        "    row =[]\n",
        "    for j in range(cols):\n",
        "        row.append(int(input()))\n",
        "    mat2.append(row)\n",
        "res=[]\n",
        "for i in range(rows):\n",
        "    row=[]\n",
        "    for j in range(cols):\n",
        "        row.append(mat1[i][j]-mat2[i][j])\n",
        "    res.append(row)\n",
        "print(\"subtraction of the matrix\")\n",
        "for row in res:\n",
        "    print(row)\n"
      ],
      "metadata": {
        "colab": {
          "base_uri": "https://localhost:8080/"
        },
        "id": "eX4b6DfLUCxg",
        "outputId": "c9cfad38-2b7c-42c5-ce1d-e341a04a8258"
      },
      "execution_count": 10,
      "outputs": [
        {
          "output_type": "stream",
          "name": "stdout",
          "text": [
            "2\n",
            "2\n",
            "Enter the elements in matrix1:\n",
            "1\n",
            "2\n",
            "3\n",
            "4\n",
            "Enter the elements in matrix2:\n",
            "5\n",
            "6\n",
            "8\n",
            "9\n",
            "subtraction of the matrix\n",
            "[-4, -4]\n",
            "[-5, -5]\n"
          ]
        }
      ]
    }
  ]
}