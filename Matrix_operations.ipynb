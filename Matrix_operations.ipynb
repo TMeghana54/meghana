{
  "nbformat": 4,
  "nbformat_minor": 0,
  "metadata": {
    "colab": {
      "provenance": [],
      "authorship_tag": "ABX9TyPDFWr4VV2ZERtjFLfV6lm5",
      "include_colab_link": true
    },
    "kernelspec": {
      "name": "python3",
      "display_name": "Python 3"
    },
    "language_info": {
      "name": "python"
    }
  },
  "cells": [
    {
      "cell_type": "markdown",
      "metadata": {
        "id": "view-in-github",
        "colab_type": "text"
      },
      "source": [
        "<a href=\"https://colab.research.google.com/github/TMeghana54/meghana/blob/main/Matrix_operations.ipynb\" target=\"_parent\"><img src=\"https://colab.research.google.com/assets/colab-badge.svg\" alt=\"Open In Colab\"/></a>"
      ]
    },
    {
      "cell_type": "code",
      "execution_count": 9,
      "metadata": {
        "colab": {
          "base_uri": "https://localhost:8080/"
        },
        "id": "1MN9X5P-M6kn",
        "outputId": "ccbda816-d773-4460-e912-0c700698a75a"
      },
      "outputs": [
        {
          "output_type": "stream",
          "name": "stdout",
          "text": [
            "2\n",
            "2\n",
            "Enter the elements in matrix1:\n",
            "1\n",
            "2\n",
            "3\n",
            "4\n",
            "Enter the elements in matrix2:\n",
            "5\n",
            "6\n",
            "7\n",
            "8\n",
            "resulting matrix\n",
            "[6, 8]\n",
            "[10, 12]\n"
          ]
        }
      ],
      "source": [
        "rows=int(input())\n",
        "cols=int(input())\n",
        "mat1=[]\n",
        "mat2=[]\n",
        "print(\"Enter the elements in matrix1:\")\n",
        "for i in range(rows):\n",
        "    row =[]\n",
        "    for j in range(cols):\n",
        "      row.append(int(input()))\n",
        "    mat1.append(row)\n",
        "print(\"Enter the elements in matrix2:\")\n",
        "for i in range(rows):\n",
        "    row =[]\n",
        "    for j in range(cols):\n",
        "        row.append(int(input()))\n",
        "    mat2.append(row)\n",
        "res=[]\n",
        "for i in range(rows):\n",
        "    row=[]\n",
        "    for j in range(cols):\n",
        "        row.append(mat1[i][j]+mat2[i][j])\n",
        "    res.append(row)\n",
        "print(\"resulting matrix\")\n",
        "for row in res:\n",
        "    print(row)"
      ]
    },
    {
      "cell_type": "code",
      "source": [
        "rows=int(input())\n",
        "cols=int(input())\n",
        "mat1=[]\n",
        "mat2=[]\n",
        "print(\"Enter the elements in matrix1:\")\n",
        "for i in range(rows):\n",
        "    row =[]\n",
        "    for j in range(cols):\n",
        "        row.append(int(input()))\n",
        "    mat1.append(row)\n",
        "print(\"Enter the elements in matrix2:\")\n",
        "for i in range(rows):\n",
        "    row =[]\n",
        "    for j in range(cols):\n",
        "        row.append(int(input()))\n",
        "    mat2.append(row)\n",
        "res=[]\n",
        "for i in range(rows):\n",
        "    row=[]\n",
        "    for j in range(cols):\n",
        "        row.append(mat1[i][j]-mat2[i][j])\n",
        "    res.append(row)\n",
        "print(\"subtraction of the matrix\")\n",
        "for row in res:\n",
        "    print(row)\n"
      ],
      "metadata": {
        "colab": {
          "base_uri": "https://localhost:8080/"
        },
        "id": "eX4b6DfLUCxg",
        "outputId": "2e6a0bdc-d15a-4970-d93e-ce2bcfb1b58e"
      },
      "execution_count": 12,
      "outputs": [
        {
          "output_type": "stream",
          "name": "stdout",
          "text": [
            "2\n",
            "2\n",
            "Enter the elements in matrix1:\n",
            "1\n",
            "2\n",
            "5\n",
            "6\n",
            "Enter the elements in matrix2:\n",
            "9\n",
            "8\n",
            "3\n",
            "4\n",
            "subtraction of the matrix\n",
            "[-8, -6]\n",
            "[2, 2]\n"
          ]
        }
      ]
    },
    {
      "cell_type": "code",
      "source": [
        "rows_a=int(input())\n",
        "cols_a=int(input())\n",
        "rows_b=int(input())\n",
        "cols_b=int(input())\n",
        "mat1=[]\n",
        "mat2=[]\n",
        "print(\"Enter the elements of mat1:\")\n",
        "for i in range(rows_a):\n",
        "    z=[]\n",
        "    for j in range(cols_a):\n",
        "        z.append(int(input()))\n",
        "    mat1.append(z)\n",
        "print(\"Enter the elements of mat2:\")\n",
        "for i in range(rows_b):\n",
        "    z=[]\n",
        "    for j in range(cols_b):\n",
        "        z.append(int(input()))\n",
        "    mat2.append(z)\n",
        "result = [[0 for _ in range(cols_b)] for _ in range(rows_a)]\n",
        "for i in range(rows_a):\n",
        "    for j in range(cols_b):\n",
        "        for k in range(cols_a):\n",
        "            result[i][j] += mat1[i][k] * mat2[k][j]\n",
        "print(\"The resulting matrix is:\")\n",
        "for row in result:\n",
        "    print(row)\n",
        ""
      ],
      "metadata": {
        "colab": {
          "base_uri": "https://localhost:8080/"
        },
        "id": "1YT4LrKesLut",
        "outputId": "48514904-3515-4fca-d1f5-5b87ff5d1ef8"
      },
      "execution_count": 14,
      "outputs": [
        {
          "output_type": "stream",
          "name": "stdout",
          "text": [
            "2\n",
            "2\n",
            "2\n",
            "2\n",
            "Enter the elements of mat1:\n",
            "1\n",
            "2\n",
            "3\n",
            "4\n",
            "Enter the elements of mat2:\n",
            "5\n",
            "6\n",
            "7\n",
            "8\n",
            "The resulting matrix is:\n",
            "[19, 22]\n",
            "[43, 50]\n"
          ]
        }
      ]
    },
    {
      "cell_type": "code",
      "source": [
        "\n"
      ],
      "metadata": {
        "id": "VICLAPX0say6"
      },
      "execution_count": null,
      "outputs": []
    }
  ]
}